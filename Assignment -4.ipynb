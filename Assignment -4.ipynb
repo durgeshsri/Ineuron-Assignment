{
 "cells": [
  {
   "cell_type": "markdown",
   "metadata": {},
   "source": [
    "# 1.1 Write a Python Program(with class concepts) to find the area of the triangle using the below\n",
    "formula.\n",
    "\n",
    "area = (s*(s-a)*(s-b)*(s-c)) ** 0.5\n",
    "\n",
    "Function to take the length of the sides of triangle from user should be defined in the parent\n",
    "class and function to calculate the area should be defined in subclass."
   ]
  },
  {
   "cell_type": "code",
   "execution_count": 1,
   "metadata": {},
   "outputs": [
    {
     "name": "stdout",
     "output_type": "stream",
     "text": [
      "Area of the triangle = 5.332682251925386 unit²\n"
     ]
    }
   ],
   "source": [
    "class Dimensions:\n",
    "    #Class to define sides of a triangle\n",
    "    def __init__(self, sideA, sideB, sideC):\n",
    "        self.a = sideA\n",
    "        self.b = sideB\n",
    "        self.c = sideC\n",
    "\n",
    "    def perimeter(self):\n",
    "        # calculate semi perimeter\n",
    "        s = (self.a + self.b + self.c)/2\n",
    "        return s\n",
    "class Area(Dimensions):\n",
    "    \n",
    "    def __init__(self, *args):\n",
    "         super().__init__(*args)\n",
    "\n",
    "    def calculate_area(self):\n",
    "        \n",
    "        s = super().perimeter() # getting the perimeter from Dimension parent class\n",
    "        # calculate area\n",
    "        area = (s*(s-self.a)*(s-self.b)*(s-self.c)) ** 0.5\n",
    "        print(f\"Area of the triangle = {area} unit\\u00b2\")\n",
    "\n",
    "area = Area(3,4,6)\n",
    "area.calculate_area()"
   ]
  },
  {
   "cell_type": "markdown",
   "metadata": {},
   "source": [
    "# 1.2 Write a function filter_long_words() that takes a list of words and an integer n and returns the list of words that are longer than n."
   ]
  },
  {
   "cell_type": "code",
   "execution_count": 2,
   "metadata": {},
   "outputs": [
    {
     "name": "stdout",
     "output_type": "stream",
     "text": [
      "longest words are = ['Durgesh', 'Friend']\n"
     ]
    }
   ],
   "source": [
    "def filter_long_words(N=None, array = None):\n",
    "    results = []\n",
    "    for i in array:\n",
    "        if len(i) > N:\n",
    "            results.append(i)\n",
    "    return results\n",
    "\n",
    "arr = ['Durgesh', 'Akash', 'are', 'best','Friend']\n",
    "n = 5\n",
    "result = filter_long_words(N = n, array = arr)\n",
    "print(f\"longest words are = {result}\")"
   ]
  },
  {
   "cell_type": "markdown",
   "metadata": {},
   "source": [
    "# 2.1 Write a Python program using function concept that maps list of words into a list of integers representing the lengths of the corresponding words.\n",
    "\n",
    "\n",
    "Hint: If a list [ ab,cde,erty] is passed on to the python function output should come as [2,3,4]\n",
    "\n",
    "Here 2,3 and 4 are the lengths of the words in the list."
   ]
  },
  {
   "cell_type": "code",
   "execution_count": 3,
   "metadata": {},
   "outputs": [
    {
     "name": "stdout",
     "output_type": "stream",
     "text": [
      "output = [2, 3, 4]\n"
     ]
    }
   ],
   "source": [
    "def get_length_of_words(array=None):\n",
    "    return [len(word) for word in array]\n",
    "\n",
    "arr = [ \"ab\", \"cde\", \"erty\"]\n",
    "result = get_length_of_words(arr)\n",
    "print(f\"output = {result}\")"
   ]
  },
  {
   "cell_type": "markdown",
   "metadata": {},
   "source": [
    "# 2.2 Write a Python function which takes a character (i.e. a string of length 1) and returns True if it is a vowel, False otherwise."
   ]
  },
  {
   "cell_type": "code",
   "execution_count": 4,
   "metadata": {},
   "outputs": [
    {
     "name": "stdout",
     "output_type": "stream",
     "text": [
      "False\n",
      "True\n"
     ]
    }
   ],
   "source": [
    "def is_vowel(x):\n",
    "    vowel = ['a', 'e', 'i', 'o', 'u']\n",
    "    if x in vowel:\n",
    "        return True\n",
    "    return False\n",
    "\n",
    "x = is_vowel(\"d\")\n",
    "print(x)\n",
    "y = is_vowel(\"u\")\n",
    "print(y)"
   ]
  },
  {
   "cell_type": "code",
   "execution_count": null,
   "metadata": {},
   "outputs": [],
   "source": []
  }
 ],
 "metadata": {
  "kernelspec": {
   "display_name": "Python 3",
   "language": "python",
   "name": "python3"
  },
  "language_info": {
   "codemirror_mode": {
    "name": "ipython",
    "version": 3
   },
   "file_extension": ".py",
   "mimetype": "text/x-python",
   "name": "python",
   "nbconvert_exporter": "python",
   "pygments_lexer": "ipython3",
   "version": "3.7.4"
  }
 },
 "nbformat": 4,
 "nbformat_minor": 2
}
