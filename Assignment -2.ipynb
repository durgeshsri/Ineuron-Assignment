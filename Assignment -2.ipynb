{
 "cells": [
  {
   "cell_type": "raw",
   "metadata": {},
   "source": [
    "# 1->  Create the below pattern using nested for loop in Python.\n",
    "\"\"\"\n",
    "*\n",
    "* *\n",
    "* * *\n",
    "* * * *\n",
    "* * * * *\n",
    "* * * *\n",
    "* * *\n",
    "* *\n",
    "*\n",
    "\"\"\""
   ]
  },
  {
   "cell_type": "code",
   "execution_count": 1,
   "metadata": {},
   "outputs": [],
   "source": [
    "def draw_triangle(N):\n",
    "    for i in range(N):\n",
    "        print(\"* \"*i)\n",
    "    for i in range(N,0,-1):\n",
    "        print(\"* \"*i)\n",
    "draw_triangle(5)"
   ]
  },
  {
   "cell_type": "markdown",
   "metadata": {},
   "source": [
    "# 2-->  Write a Python program to reverse a word after accepting the input from the user.\n",
    "\n",
    "      *Sample Output\n",
    "      \n",
    "       Input>  ineuron\n",
    "       \n",
    "       Output> norueni"
   ]
  },
  {
   "cell_type": "code",
   "execution_count": 2,
   "metadata": {},
   "outputs": [
    {
     "name": "stdout",
     "output_type": "stream",
     "text": [
      "input a word: ineuron\n",
      "output: norueni\n"
     ]
    }
   ],
   "source": [
    "def print_reverse(data):\n",
    "    print(f\"output: {data[::-1]}\")\n",
    "\n",
    "data = input(\"input a word: \")\n",
    "print_reverse(data)"
   ]
  },
  {
   "cell_type": "code",
   "execution_count": null,
   "metadata": {},
   "outputs": [],
   "source": []
  }
 ],
 "metadata": {
  "kernelspec": {
   "display_name": "Python 3",
   "language": "python",
   "name": "python3"
  },
  "language_info": {
   "codemirror_mode": {
    "name": "ipython",
    "version": 3
   },
   "file_extension": ".py",
   "mimetype": "text/x-python",
   "name": "python",
   "nbconvert_exporter": "python",
   "pygments_lexer": "ipython3",
   "version": "3.7.4"
  }
 },
 "nbformat": 4,
 "nbformat_minor": 2
}
